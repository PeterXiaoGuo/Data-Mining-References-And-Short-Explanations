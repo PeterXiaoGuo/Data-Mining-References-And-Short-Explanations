{
 "cells": [
  {
   "cell_type": "code",
   "execution_count": 1,
   "metadata": {
    "collapsed": true
   },
   "outputs": [],
   "source": [
    "import math\n",
    "\n",
    "def entropyPurityOfCluster(arr=[3,5,40,506,96,27]):\n",
    "    clusterSize=0\n",
    "    for i in arr:\n",
    "        clusterSize+=i\n",
    "    entropy=0\n",
    "    purity=0.0\n",
    "    for i in arr:\n",
    "        p = (i+0.00001)/clusterSize\n",
    "        entropy-=p*math.log(p,2)\n",
    "        purity=max(p,purity)\n",
    "        \n",
    "    print(\"Entropy \", entropy)\n",
    "    print(\"Purity \", purity)\n",
    "    \n",
    "    return (entropy, purity,clusterSize)\n",
    "\n",
    "def entropyPurityOverClusterings(arr):\n",
    "    dataSize=0\n",
    "    for i in arr:\n",
    "        for s in i:\n",
    "            dataSize+=s\n",
    "    entropy=0.0\n",
    "    purity=0.0\n",
    "    \n",
    "    for i in arr:\n",
    "        e,p,cs=entropyPurityOfCluster(i)\n",
    "        entropy+=(cs/dataSize)*e\n",
    "        purity+=(cs/dataSize)*p\n",
    "    \n",
    "    return entropy,purity,dataSize"
   ]
  },
  {
   "cell_type": "code",
   "execution_count": 2,
   "metadata": {},
   "outputs": [
    {
     "name": "stdout",
     "output_type": "stream",
     "text": [
      "Entropy  0.5917007233598166\nPurity  0.8571442857142857\nEntropy  1.156781479779429\nPurity  0.700001\nEntropy  0.8113020485629867\nPurity  0.75000125\n"
     ]
    },
    {
     "data": {
      "text/plain": [
       "(0.8880054499926759, 0.7600012, 25)"
      ]
     },
     "execution_count": 2,
     "metadata": {},
     "output_type": "execute_result"
    }
   ],
   "source": [
    "test=[[6,0,1],[2,7,1],[2,0,6]]\n",
    "entropyPurityOverClusterings(test)\n",
    "#entropyPurityOfCluster([6,0.0,1])"
   ]
  },
  {
   "cell_type": "code",
   "execution_count": 14,
   "metadata": {},
   "outputs": [],
   "source": [
    ""
   ]
  },
  {
   "cell_type": "code",
   "execution_count": null,
   "metadata": {},
   "outputs": [],
   "source": [
    ""
   ]
  }
 ],
 "metadata": {
  "kernelspec": {
   "display_name": "Python 2",
   "language": "python",
   "name": "python2"
  },
  "language_info": {
   "codemirror_mode": {
    "name": "ipython",
    "version": 2.0
   },
   "file_extension": ".py",
   "mimetype": "text/x-python",
   "name": "python",
   "nbconvert_exporter": "python",
   "pygments_lexer": "ipython2",
   "version": "2.7.6"
  }
 },
 "nbformat": 4,
 "nbformat_minor": 0
}